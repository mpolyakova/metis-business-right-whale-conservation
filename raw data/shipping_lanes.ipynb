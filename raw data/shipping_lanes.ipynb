{
 "cells": [
  {
   "cell_type": "code",
   "execution_count": 1,
   "id": "ac18225d",
   "metadata": {},
   "outputs": [],
   "source": [
    "import pandas  as pd\n",
    "import geopandas"
   ]
  },
  {
   "cell_type": "code",
   "execution_count": 2,
   "id": "a8c963d1",
   "metadata": {},
   "outputs": [],
   "source": [
    "shippinglanes = geopandas.read_file('shippinglanes.shp')"
   ]
  },
  {
   "cell_type": "code",
   "execution_count": 3,
   "id": "f41564fc",
   "metadata": {},
   "outputs": [
    {
     "data": {
      "text/html": [
       "<div>\n",
       "<style scoped>\n",
       "    .dataframe tbody tr th:only-of-type {\n",
       "        vertical-align: middle;\n",
       "    }\n",
       "\n",
       "    .dataframe tbody tr th {\n",
       "        vertical-align: top;\n",
       "    }\n",
       "\n",
       "    .dataframe thead th {\n",
       "        text-align: right;\n",
       "    }\n",
       "</style>\n",
       "<table border=\"1\" class=\"dataframe\">\n",
       "  <thead>\n",
       "    <tr style=\"text-align: right;\">\n",
       "      <th></th>\n",
       "      <th>OBJL</th>\n",
       "      <th>THEMELAYER</th>\n",
       "      <th>INFORM</th>\n",
       "      <th>OBJNAM</th>\n",
       "      <th>geometry</th>\n",
       "    </tr>\n",
       "  </thead>\n",
       "  <tbody>\n",
       "    <tr>\n",
       "      <th>0</th>\n",
       "      <td>112</td>\n",
       "      <td>Area to be Avoided</td>\n",
       "      <td>MSC IMO SN.1/Circ. 263</td>\n",
       "      <td>Area to be Avoided</td>\n",
       "      <td>POLYGON ((-176.75004 27.60653, -176.75611 27.6...</td>\n",
       "    </tr>\n",
       "    <tr>\n",
       "      <th>1</th>\n",
       "      <td>112</td>\n",
       "      <td>Area to be Avoided</td>\n",
       "      <td>All ships 400 gross tonnage and upwards solely...</td>\n",
       "      <td>Atka Area to be Avoided</td>\n",
       "      <td>POLYGON ((-180.00000 50.64256, -179.84108 51.1...</td>\n",
       "    </tr>\n",
       "    <tr>\n",
       "      <th>2</th>\n",
       "      <td>112</td>\n",
       "      <td>Area to be Avoided</td>\n",
       "      <td>MSC IMO SN.1/Circ. 263</td>\n",
       "      <td>Area to be Avoided</td>\n",
       "      <td>POLYGON ((-167.41667 23.53503, -168.52639 24.3...</td>\n",
       "    </tr>\n",
       "    <tr>\n",
       "      <th>3</th>\n",
       "      <td>112</td>\n",
       "      <td>Area to be Avoided</td>\n",
       "      <td>MSC IMO SN.1/Circ. 263</td>\n",
       "      <td>Area to be Avoided</td>\n",
       "      <td>POLYGON ((-170.02624 24.49229, -170.03782 24.4...</td>\n",
       "    </tr>\n",
       "    <tr>\n",
       "      <th>4</th>\n",
       "      <td>112</td>\n",
       "      <td>Area to be Avoided</td>\n",
       "      <td>All ships 400 gross tonnage and upwards solely...</td>\n",
       "      <td>Unalaska Area to be Avoided</td>\n",
       "      <td>POLYGON ((-166.86321 54.33264, -166.86321 54.3...</td>\n",
       "    </tr>\n",
       "  </tbody>\n",
       "</table>\n",
       "</div>"
      ],
      "text/plain": [
       "  OBJL          THEMELAYER                                             INFORM  \\\n",
       "0  112  Area to be Avoided                             MSC IMO SN.1/Circ. 263   \n",
       "1  112  Area to be Avoided  All ships 400 gross tonnage and upwards solely...   \n",
       "2  112  Area to be Avoided                             MSC IMO SN.1/Circ. 263   \n",
       "3  112  Area to be Avoided                             MSC IMO SN.1/Circ. 263   \n",
       "4  112  Area to be Avoided  All ships 400 gross tonnage and upwards solely...   \n",
       "\n",
       "                        OBJNAM  \\\n",
       "0           Area to be Avoided   \n",
       "1      Atka Area to be Avoided   \n",
       "2           Area to be Avoided   \n",
       "3           Area to be Avoided   \n",
       "4  Unalaska Area to be Avoided   \n",
       "\n",
       "                                            geometry  \n",
       "0  POLYGON ((-176.75004 27.60653, -176.75611 27.6...  \n",
       "1  POLYGON ((-180.00000 50.64256, -179.84108 51.1...  \n",
       "2  POLYGON ((-167.41667 23.53503, -168.52639 24.3...  \n",
       "3  POLYGON ((-170.02624 24.49229, -170.03782 24.4...  \n",
       "4  POLYGON ((-166.86321 54.33264, -166.86321 54.3...  "
      ]
     },
     "execution_count": 3,
     "metadata": {},
     "output_type": "execute_result"
    }
   ],
   "source": [
    "shippinglanes.head()"
   ]
  },
  {
   "cell_type": "code",
   "execution_count": 4,
   "id": "5b00c363",
   "metadata": {},
   "outputs": [],
   "source": [
    "shippinglanes.to_csv('shippinglanes.csv')"
   ]
  }
 ],
 "metadata": {
  "kernelspec": {
   "display_name": "Python 3 (ipykernel)",
   "language": "python",
   "name": "python3"
  },
  "language_info": {
   "codemirror_mode": {
    "name": "ipython",
    "version": 3
   },
   "file_extension": ".py",
   "mimetype": "text/x-python",
   "name": "python",
   "nbconvert_exporter": "python",
   "pygments_lexer": "ipython3",
   "version": "3.8.10"
  }
 },
 "nbformat": 4,
 "nbformat_minor": 5
}
